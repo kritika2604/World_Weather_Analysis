{
 "cells": [
  {
   "cell_type": "code",
   "execution_count": 1,
   "id": "fa078f43",
   "metadata": {},
   "outputs": [],
   "source": [
    "import random"
   ]
  },
  {
   "cell_type": "code",
   "execution_count": 2,
   "id": "6980f3cf",
   "metadata": {},
   "outputs": [
    {
     "data": {
      "text/plain": [
       "0.06557905262880404"
      ]
     },
     "execution_count": 2,
     "metadata": {},
     "output_type": "execute_result"
    }
   ],
   "source": [
    "random.random()"
   ]
  },
  {
   "cell_type": "code",
   "execution_count": 3,
   "id": "2be3987d",
   "metadata": {},
   "outputs": [
    {
     "data": {
      "text/plain": [
       "-1"
      ]
     },
     "execution_count": 3,
     "metadata": {},
     "output_type": "execute_result"
    }
   ],
   "source": [
    "random.randint(-2,4)"
   ]
  },
  {
   "cell_type": "code",
   "execution_count": 4,
   "id": "bcc13ee0",
   "metadata": {},
   "outputs": [
    {
     "data": {
      "text/plain": [
       "2"
      ]
     },
     "execution_count": 4,
     "metadata": {},
     "output_type": "execute_result"
    }
   ],
   "source": [
    "random.randint(-2,4)"
   ]
  },
  {
   "cell_type": "code",
   "execution_count": 5,
   "id": "44f5fd64",
   "metadata": {},
   "outputs": [
    {
     "data": {
      "text/plain": [
       "7"
      ]
     },
     "execution_count": 5,
     "metadata": {},
     "output_type": "execute_result"
    }
   ],
   "source": [
    "random.randrange(-9,9,2)"
   ]
  },
  {
   "cell_type": "code",
   "execution_count": 6,
   "id": "a2a8d311",
   "metadata": {},
   "outputs": [
    {
     "data": {
      "text/plain": [
       "-2.4571951912989114"
      ]
     },
     "execution_count": 6,
     "metadata": {},
     "output_type": "execute_result"
    }
   ],
   "source": [
    "random.uniform(-10,10)"
   ]
  },
  {
   "cell_type": "code",
   "execution_count": 7,
   "id": "caec6bd2",
   "metadata": {},
   "outputs": [
    {
     "data": {
      "text/plain": [
       "27.66356275511594"
      ]
     },
     "execution_count": 7,
     "metadata": {},
     "output_type": "execute_result"
    }
   ],
   "source": [
    "random_number = random.randint(-90,89) + random.random()\n",
    "random_number"
   ]
  },
  {
   "cell_type": "code",
   "execution_count": 8,
   "id": "2ad5c329",
   "metadata": {},
   "outputs": [
    {
     "data": {
      "text/plain": [
       "[89.01367621779804,\n",
       " -58.2126674666994,\n",
       " 50.07856101944236,\n",
       " 30.564983635494062,\n",
       " -38.040963168895814,\n",
       " -32.58973564066755,\n",
       " 63.57027591878162,\n",
       " 83.58605439262188,\n",
       " 46.596528319239766,\n",
       " 53.55594506907412]"
      ]
     },
     "execution_count": 8,
     "metadata": {},
     "output_type": "execute_result"
    }
   ],
   "source": [
    "#Generating 10 random floating-point decimal lattitudes between -90 and 89\n",
    "x = 1\n",
    "latitudes = []\n",
    "while x < 11:\n",
    "    random_lat = random.randint(-90,89) + random.random()\n",
    "    latitudes.append(random_lat)\n",
    "    x += 1    \n",
    "latitudes"
   ]
  },
  {
   "cell_type": "code",
   "execution_count": 9,
   "id": "56ddaaa0",
   "metadata": {},
   "outputs": [
    {
     "data": {
      "text/plain": [
       "23"
      ]
     },
     "execution_count": 9,
     "metadata": {},
     "output_type": "execute_result"
    }
   ],
   "source": [
    "#random range method\n",
    "random.randrange(-90,90,step=1)"
   ]
  },
  {
   "cell_type": "code",
   "execution_count": 10,
   "id": "1298e280",
   "metadata": {},
   "outputs": [
    {
     "data": {
      "text/plain": [
       "-6"
      ]
     },
     "execution_count": 10,
     "metadata": {},
     "output_type": "execute_result"
    }
   ],
   "source": [
    "#random range method\n",
    "random.randrange(-90,90,step=3)"
   ]
  },
  {
   "cell_type": "code",
   "execution_count": 11,
   "id": "dca15141",
   "metadata": {},
   "outputs": [
    {
     "data": {
      "text/plain": [
       "-63.55113036148815"
      ]
     },
     "execution_count": 11,
     "metadata": {},
     "output_type": "execute_result"
    }
   ],
   "source": [
    "# Testing uniform\n",
    "random.uniform(-90,90)"
   ]
  },
  {
   "cell_type": "code",
   "execution_count": 12,
   "id": "4d49963a",
   "metadata": {},
   "outputs": [],
   "source": [
    "#import Numpy module\n",
    "import numpy as np\n"
   ]
  },
  {
   "cell_type": "code",
   "execution_count": 13,
   "id": "ce9b6512",
   "metadata": {},
   "outputs": [
    {
     "data": {
      "text/plain": [
       "81.51592625870666"
      ]
     },
     "execution_count": 13,
     "metadata": {},
     "output_type": "execute_result"
    }
   ],
   "source": [
    "np.random.uniform(-90.000,90.000)"
   ]
  },
  {
   "cell_type": "code",
   "execution_count": 14,
   "id": "4c2bbe9a",
   "metadata": {},
   "outputs": [
    {
     "data": {
      "text/plain": [
       "70.01149087907567"
      ]
     },
     "execution_count": 14,
     "metadata": {},
     "output_type": "execute_result"
    }
   ],
   "source": [
    "np.random.uniform(low=-90, high=90)"
   ]
  },
  {
   "cell_type": "code",
   "execution_count": 15,
   "id": "567a9107",
   "metadata": {},
   "outputs": [
    {
     "data": {
      "text/plain": [
       "array([-30.50524278, -56.59144561, -73.86568875,  69.46166824,\n",
       "       -11.70148476, -13.10060283,  70.06357465, -41.61307034,\n",
       "        18.21901937, -15.03977648,  28.33043923,  70.92477595,\n",
       "        31.91459486, -16.49382955, -64.38806395,  42.2388985 ,\n",
       "       -75.04556229, -20.85935124, -83.12908172,  73.38765406,\n",
       "        12.73196179,  58.0664914 , -21.45053781, -56.00306444,\n",
       "       -52.51994446,  68.84006424, -81.91504324, -81.87000784,\n",
       "        -9.8898648 , -81.97338293,  36.6885789 ,  65.5495993 ,\n",
       "        49.11326823,  10.60190086,  48.24711796,   9.60010756,\n",
       "        32.18080548, -18.55663112, -87.45197853, -48.88847664,\n",
       "        52.56125357,  20.79866797, -72.96765402, -45.02335463,\n",
       "        86.3322434 ,  35.80730194, -77.35797924,  -1.87441324,\n",
       "        48.67294212,  63.608732  ])"
      ]
     },
     "execution_count": 15,
     "metadata": {},
     "output_type": "execute_result"
    }
   ],
   "source": [
    "#To generate more than one floating-point decimal number between –90 and 90\n",
    "np.random.uniform(-90.000,90.000,size=50)"
   ]
  },
  {
   "cell_type": "code",
   "execution_count": 16,
   "id": "2b9a7659",
   "metadata": {},
   "outputs": [],
   "source": [
    "#Import timeit\n",
    "import timeit"
   ]
  },
  {
   "cell_type": "code",
   "execution_count": 17,
   "id": "9970730f",
   "metadata": {},
   "outputs": [
    {
     "name": "stdout",
     "output_type": "stream",
     "text": [
      "12.1 µs ± 281 ns per loop (mean ± std. dev. of 7 runs, 100000 loops each)\n"
     ]
    }
   ],
   "source": [
    "%timeit np.random.uniform(-90.000, 90.000, size =1500)"
   ]
  },
  {
   "cell_type": "code",
   "execution_count": 19,
   "id": "f1160be0",
   "metadata": {},
   "outputs": [
    {
     "name": "stdout",
     "output_type": "stream",
     "text": [
      "1.23 ms ± 99 µs per loop (mean ± std. dev. of 7 runs, 1000 loops each)\n"
     ]
    }
   ],
   "source": [
    "#using while loop for print the 1500 random floating point numbers\n",
    "def latitudes(size):\n",
    "    latitudes=[]\n",
    "    x=0\n",
    "    while x < (size):\n",
    "        random_lat = random.randint(-90,90)+random.random()\n",
    "        latitudes.append(random_lat)\n",
    "        x += 1\n",
    "        \n",
    "    return latitudes\n",
    "#Call the function with 1500\n",
    "%timeit latitudes(1500)"
   ]
  },
  {
   "cell_type": "code",
   "execution_count": null,
   "id": "b6a1b68f",
   "metadata": {},
   "outputs": [],
   "source": []
  }
 ],
 "metadata": {
  "kernelspec": {
   "display_name": "PythonData",
   "language": "python",
   "name": "pythondata"
  },
  "language_info": {
   "codemirror_mode": {
    "name": "ipython",
    "version": 3
   },
   "file_extension": ".py",
   "mimetype": "text/x-python",
   "name": "python",
   "nbconvert_exporter": "python",
   "pygments_lexer": "ipython3",
   "version": "3.9.7"
  }
 },
 "nbformat": 4,
 "nbformat_minor": 5
}
